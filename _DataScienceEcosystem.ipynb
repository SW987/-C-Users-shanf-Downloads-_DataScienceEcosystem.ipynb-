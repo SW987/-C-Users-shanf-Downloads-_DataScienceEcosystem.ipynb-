{
 "cells": [
  {
   "cell_type": "markdown",
   "id": "998d4aba-c839-401f-83b0-4ae88e9d6cff",
   "metadata": {},
   "source": [
    "# Data Science Tools and Ecosystem"
   ]
  },
  {
   "cell_type": "markdown",
   "id": "e722b3cb-c399-4a75-8570-411ebbe01201",
   "metadata": {},
   "source": [
    "### In this notebook, Data Science Tools and Ecosystem are summarized."
   ]
  },
  {
   "cell_type": "markdown",
   "id": "b52b75cd-9718-4126-9664-10c132c3febd",
   "metadata": {},
   "source": [
    "## Some of the popular languages that Data Scientists use are:\n",
    "1. Python\n",
    "2. R\n",
    "3. Scala "
   ]
  },
  {
   "cell_type": "markdown",
   "id": "223712dd-42fa-44d2-a355-6d49a0c8f846",
   "metadata": {},
   "source": [
    "### Some of the commonly used libraries used by Data Scientists include:\n",
    "1. Pandas\n",
    "2. Numpy\n",
    "3. Keras "
   ]
  },
  {
   "cell_type": "markdown",
   "id": "6133b5bc-5e64-49d4-9e64-adb332e5d587",
   "metadata": {},
   "source": [
    "| Data Science tools|\n",
    "|-------------------|\n",
    "| Jupyter Notebook|\n",
    "| RStudio |\n",
    "| Hadoop| "
   ]
  },
  {
   "cell_type": "markdown",
   "id": "f25a3d6c-925a-42a3-9b78-1f71137db574",
   "metadata": {},
   "source": [
    "### Below are a few examples of evaluating arithmetic expressions in Python"
   ]
  },
  {
   "cell_type": "code",
   "execution_count": 2,
   "id": "87a98e7f-4f1c-4134-97bb-bf5308e6fe6e",
   "metadata": {},
   "outputs": [
    {
     "name": "stdout",
     "output_type": "stream",
     "text": [
      "17\n"
     ]
    }
   ],
   "source": [
    "a = (3*4)+5 #  This a simple arithmetic expression to mutiply\n",
    "print(a)\n"
   ]
  },
  {
   "cell_type": "code",
   "execution_count": 3,
   "id": "cd8768e6-5057-449b-b705-2ed438dabe2f",
   "metadata": {},
   "outputs": [
    {
     "name": "stdout",
     "output_type": "stream",
     "text": [
      "3.3333333333333335\n"
     ]
    }
   ],
   "source": [
    "b = 200/60 # it will covert minutes into hours\n",
    "print (b)"
   ]
  },
  {
   "cell_type": "markdown",
   "id": "fd3b48ab-5c6f-4b16-805f-050f4ea6d959",
   "metadata": {},
   "source": [
    "# objectives \n",
    "- Python\n",
    "- R\n",
    "- Jupyter Notebook\n",
    "- Anaconda\n",
    "- Jupyter lab"
   ]
  },
  {
   "cell_type": "markdown",
   "id": "f9b6aabc-1599-4195-973e-69273aa27476",
   "metadata": {},
   "source": [
    "## Author\n",
    "Saad Waseem"
   ]
  },
  {
   "cell_type": "code",
   "execution_count": null,
   "id": "e2013044-873a-40d4-a365-fcec5fff740a",
   "metadata": {},
   "outputs": [],
   "source": []
  }
 ],
 "metadata": {
  "kernelspec": {
   "display_name": "Python 3 (ipykernel)",
   "language": "python",
   "name": "python3"
  },
  "language_info": {
   "codemirror_mode": {
    "name": "ipython",
    "version": 3
   },
   "file_extension": ".py",
   "mimetype": "text/x-python",
   "name": "python",
   "nbconvert_exporter": "python",
   "pygments_lexer": "ipython3",
   "version": "3.11.7"
  }
 },
 "nbformat": 4,
 "nbformat_minor": 5
}
